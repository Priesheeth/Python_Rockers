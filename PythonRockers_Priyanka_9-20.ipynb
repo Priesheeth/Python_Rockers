{
 "cells": [
  {
   "cell_type": "code",
   "execution_count": 32,
   "id": "5cbc61d1",
   "metadata": {},
   "outputs": [
    {
     "name": "stdout",
     "output_type": "stream",
     "text": [
      "Requirement already satisfied: psycopg2 in c:\\users\\priya\\anaconda3\\lib\\site-packages (2.9.3)\n",
      "Note: you may need to restart the kernel to use updated packages.\n"
     ]
    }
   ],
   "source": [
    "pip install psycopg2"
   ]
  },
  {
   "cell_type": "code",
   "execution_count": 54,
   "id": "aa0ac505",
   "metadata": {},
   "outputs": [
    {
     "name": "stdout",
     "output_type": "stream",
     "text": [
      "[('Ted Texas',), ('Ted Green',), ('Ted Black',), ('Tyler Conner',), ('Tony Creed',), ('Trent Tye',)]\n"
     ]
    }
   ],
   "source": [
    "#11.Connect to sql and write a query to get list of Provider names whose Providername is starting with letter T.\n",
    "import psycopg2\n",
    "\n",
    "conn = psycopg2.connect(\n",
    "   database=\"HospitalDB_New\", user='postgres', password='Andavagx&1', host='::1', port= 5432\n",
    ")\n",
    "cursor = conn.cursor()\n",
    "sql_command = '''Select \"ProviderName\" from \"Providers\" where \"ProviderName\" like 'T%' '''\n",
    "\n",
    "cursor.execute(sql_command)\n",
    "print(cursor.fetchall())\n",
    "conn.commit()\n",
    "cursor.close()\n",
    "conn.close()"
   ]
  },
  {
   "cell_type": "code",
   "execution_count": null,
   "id": "990563b0",
   "metadata": {},
   "outputs": [],
   "source": []
  }
 ],
 "metadata": {
  "kernelspec": {
   "display_name": "Python 3 (ipykernel)",
   "language": "python",
   "name": "python3"
  },
  "language_info": {
   "codemirror_mode": {
    "name": "ipython",
    "version": 3
   },
   "file_extension": ".py",
   "mimetype": "text/x-python",
   "name": "python",
   "nbconvert_exporter": "python",
   "pygments_lexer": "ipython3",
   "version": "3.9.7"
  }
 },
 "nbformat": 4,
 "nbformat_minor": 5
}
