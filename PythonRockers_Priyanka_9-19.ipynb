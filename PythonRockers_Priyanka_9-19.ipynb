{
 "cells": [
  {
   "cell_type": "code",
   "execution_count": 2,
   "id": "d2a70e89",
   "metadata": {},
   "outputs": [],
   "source": [
    "import pandas as pd\n",
    "import numpy as np\n",
    "import seaborn as sns\n",
    "import matplotlib.pyplot as plt\n",
    "from datetime import date"
   ]
  },
  {
   "cell_type": "code",
   "execution_count": 16,
   "id": "3a757e87",
   "metadata": {},
   "outputs": [
    {
     "name": "stdout",
     "output_type": "stream",
     "text": [
      "The Visit Type with maximum No Show is -  Telemedicine\n"
     ]
    }
   ],
   "source": [
    "#41.Find the visit type with maximum 'No Show'.\n",
    "df = pd.read_excel(\"HospitalDatabase .xlsx\",sheet_name=\"AmbulatoryVisits\")\n",
    "df_visitstatus = df.loc[df.VisitStatus == \"No Show\"]\n",
    "Max_NoShow = df_visitstatus['VisitType'].max()\n",
    "print('The Visit Type with maximum No Show is - ',Max_NoShow)"
   ]
  },
  {
   "cell_type": "code",
   "execution_count": 42,
   "id": "5c9e2d4a",
   "metadata": {},
   "outputs": [
    {
     "data": {
      "text/html": [
       "<div>\n",
       "<style scoped>\n",
       "    .dataframe tbody tr th:only-of-type {\n",
       "        vertical-align: middle;\n",
       "    }\n",
       "\n",
       "    .dataframe tbody tr th {\n",
       "        vertical-align: top;\n",
       "    }\n",
       "\n",
       "    .dataframe thead th {\n",
       "        text-align: right;\n",
       "    }\n",
       "</style>\n",
       "<table border=\"1\" class=\"dataframe\">\n",
       "  <thead>\n",
       "    <tr style=\"text-align: right;\">\n",
       "      <th></th>\n",
       "      <th>ProviderID</th>\n",
       "      <th>ProviderName</th>\n",
       "      <th>ProviderSpecialty</th>\n",
       "      <th>ProviderDateOnStaff</th>\n",
       "    </tr>\n",
       "  </thead>\n",
       "  <tbody>\n",
       "    <tr>\n",
       "      <th>10</th>\n",
       "      <td>11</td>\n",
       "      <td>Kim Kimberly</td>\n",
       "      <td>Surgery</td>\n",
       "      <td>1998-05-10 14:47:29.468</td>\n",
       "    </tr>\n",
       "    <tr>\n",
       "      <th>11</th>\n",
       "      <td>12</td>\n",
       "      <td>Sarah Ab</td>\n",
       "      <td>Surgery</td>\n",
       "      <td>1998-08-18 05:22:40.762</td>\n",
       "    </tr>\n",
       "    <tr>\n",
       "      <th>12</th>\n",
       "      <td>13</td>\n",
       "      <td>Abigail Marriot</td>\n",
       "      <td>Surgery</td>\n",
       "      <td>1998-11-08 12:25:45.705</td>\n",
       "    </tr>\n",
       "    <tr>\n",
       "      <th>13</th>\n",
       "      <td>14</td>\n",
       "      <td>Dave Yu</td>\n",
       "      <td>Surgery</td>\n",
       "      <td>1999-06-26 16:18:57.436</td>\n",
       "    </tr>\n",
       "    <tr>\n",
       "      <th>14</th>\n",
       "      <td>15</td>\n",
       "      <td>Christian Saint</td>\n",
       "      <td>Surgery</td>\n",
       "      <td>2000-08-27 00:12:40.326</td>\n",
       "    </tr>\n",
       "    <tr>\n",
       "      <th>15</th>\n",
       "      <td>16</td>\n",
       "      <td>Perry Pardon</td>\n",
       "      <td>Surgery</td>\n",
       "      <td>2001-02-13 11:49:17.862</td>\n",
       "    </tr>\n",
       "  </tbody>\n",
       "</table>\n",
       "</div>"
      ],
      "text/plain": [
       "    ProviderID     ProviderName ProviderSpecialty     ProviderDateOnStaff\n",
       "10          11     Kim Kimberly           Surgery 1998-05-10 14:47:29.468\n",
       "11          12         Sarah Ab           Surgery 1998-08-18 05:22:40.762\n",
       "12          13  Abigail Marriot           Surgery 1998-11-08 12:25:45.705\n",
       "13          14          Dave Yu           Surgery 1999-06-26 16:18:57.436\n",
       "14          15  Christian Saint           Surgery 2000-08-27 00:12:40.326\n",
       "15          16     Perry Pardon           Surgery 2001-02-13 11:49:17.862"
      ]
     },
     "execution_count": 42,
     "metadata": {},
     "output_type": "execute_result"
    }
   ],
   "source": [
    "#42.Using loc , get the details of the providers where providerId is between 11 and 20 and ProviderSpecialty is Surgery.\n",
    "df = pd.read_excel(\"HospitalDatabase .xlsx\",sheet_name=\"Providers\")\n",
    "df\n",
    "df_f = df.loc[10:20]\n",
    "df_f.loc[df_f['ProviderSpecialty'] == 'Surgery']"
   ]
  },
  {
   "cell_type": "code",
   "execution_count": 44,
   "id": "edb3c375",
   "metadata": {},
   "outputs": [
    {
     "name": "stdout",
     "output_type": "stream",
     "text": [
      "Enter a String with numbers: \n",
      "Python Hackathon 2022\n",
      "['2022']\n"
     ]
    }
   ],
   "source": [
    "#43. Write a regular expression to find all the digits and numbers in the string.\n",
    "import re\n",
    "str=input(\"Enter a String with numbers: \\n\")\n",
    "#Create a list to hold the numbers\n",
    "num_list = re.findall(r'\\d+', str)\n",
    "print(num_list)"
   ]
  },
  {
   "cell_type": "code",
   "execution_count": 53,
   "id": "5868f903",
   "metadata": {},
   "outputs": [
    {
     "name": "stdout",
     "output_type": "stream",
     "text": [
      "                                     Average Los\n",
      "Service          PrimaryDiagnosis               \n",
      "Cardiology       AMI                   10.250000\n",
      "                 Afib                  11.200000\n",
      "                 Broken Leg            10.666667\n",
      "                 Flu                   12.000000\n",
      "                 Heart Failure          9.512821\n",
      "                 Kidney Failure         4.000000\n",
      "General Medicine Broken Leg            13.000000\n",
      "                 Diabetes              10.289474\n",
      "                 Fever                  8.000000\n",
      "                 Flu                    9.888889\n",
      "                 Hypertension           8.914286\n",
      "                 Kidney Failure        10.666667\n",
      "                 Laceration             9.428571\n",
      "                 Pneumonia              9.417910\n",
      "                 Stroke                11.250000\n",
      "Hospitalist      AMI                   10.000000\n",
      "                 Broken Leg             7.666667\n",
      "                 Diabetes               8.846154\n",
      "                 Fever                 10.666667\n",
      "                 Flu                    8.736842\n",
      "                 Hypertension          10.666667\n",
      "                 Kidney Failure        10.166667\n",
      "                 Knee Replacement       6.000000\n",
      "                 Laceration             9.000000\n",
      "                 Pneumonia              8.928571\n",
      "                 Stroke                16.000000\n",
      "ICU              AMI                   12.200000\n",
      "                 Afib                   6.000000\n",
      "                 Fever                 13.333333\n",
      "                 Flu                    8.000000\n",
      "                 Heart Failure          9.454545\n",
      "                 Hypertension           8.500000\n",
      "                 Kidney Failure        11.000000\n",
      "                 Laceration            15.000000\n",
      "                 Pneumonia              8.298701\n",
      "                 Spinal Cord Injury    10.000000\n",
      "                 Stroke                10.333333\n",
      "Neurology        AMI                    9.000000\n",
      "                 Flu                    7.000000\n",
      "                 Heart Failure         13.166667\n",
      "                 Hypertension           9.000000\n",
      "                 Migraine               8.583333\n",
      "                 Pain                  10.285714\n",
      "                 Pneumonia              9.800000\n",
      "                 Stroke                 9.615385\n",
      "Orthopeadics     Hip Fracture           9.173913\n",
      "                 Knee Replacement       9.500000\n"
     ]
    }
   ],
   "source": [
    "#44.Create a pivot table displaying average LOS based on Service and Primary Diagnosis.\n",
    "\n",
    "df = pd.read_excel(\"HospitalDatabase .xlsx\",sheet_name=\"Discharges\")\n",
    "df[\"Los\"] = (df[\"DischargeDate\"] - df[\"AdmissionDate\"]).dt.days\n",
    "pivot = df.pivot_table(index =['Service', 'PrimaryDiagnosis'], \n",
    "                       values =['Los'], aggfunc ='mean')\n",
    "pivot.rename(columns={\"Los\":\"Average Los\"}, inplace = True)\n",
    "print (pivot)"
   ]
  },
  {
   "cell_type": "code",
   "execution_count": 59,
   "id": "e584f203",
   "metadata": {},
   "outputs": [
    {
     "name": "stdout",
     "output_type": "stream",
     "text": [
      "                      No of Patients\n",
      "Acuity EDDisposition                \n",
      "1      Admitted                   32\n",
      "       Discharged                558\n",
      "2      Admitted                  116\n",
      "       Discharged                 66\n",
      "3      Admitted                   81\n",
      "4      Admitted                  107\n",
      "       Discharged                 30\n",
      "5      Admitted                  179\n",
      "       Discharged                 30\n"
     ]
    }
   ],
   "source": [
    "#23.Create a dataframe with acuity and EDDisposition as the indices and the count of number of patients as the value.\n",
    "df = pd.read_excel(\"HospitalDatabase .xlsx\",sheet_name=\"EDVisits\")\n",
    "pivot = df.pivot_table(index =['Acuity', 'EDDisposition'], \n",
    "                       values =['PatientID'], aggfunc ='count')\n",
    "pivot.rename(columns={\"PatientID\":\"No of Patients\"}, inplace = True)\n",
    "print (pivot)"
   ]
  },
  {
   "cell_type": "code",
   "execution_count": 82,
   "id": "90fc213f",
   "metadata": {},
   "outputs": [
    {
     "data": {
      "text/plain": [
       "Text(0, 0.5, 'y-axis')"
      ]
     },
     "execution_count": 82,
     "metadata": {},
     "output_type": "execute_result"
    },
    {
     "data": {
      "image/png": "[encoded data removed]",
      "text/plain": [
       "<Figure size 432x288 with 1 Axes>"
      ]
     },
     "metadata": {
      "needs_background": "light"
     },
     "output_type": "display_data"
    }
   ],
   "source": [
    "#2.\"Create a figure object called fig using plt.figure() **  \n",
    "#** Use add_axes to add an axis to the figure canvas at [0,0,1,1]. Call this new axis ax. ** \n",
    "#** Plot (x,y) on that axes and set the labels.  Note : You can plot on any x,y set of values.\"\n",
    "\n",
    "x = [1,2,3,4,5,6]\n",
    "y = [2,4,1,5,2,6]\n",
    "fig = plt.figure()\n",
    "ax = fig.add_axes([0., 0., 1., 1., ])\n",
    "ax.plot(x,y,color='green', linestyle='dashed', linewidth = 3,\n",
    "         marker='o', markerfacecolor='blue', markersize=12)\n",
    "ax.set_xlabel('x-axis')\n",
    "ax.set_ylabel('y-axis')"
   ]
  },
  {
   "cell_type": "code",
   "execution_count": null,
   "id": "f58d480b",
   "metadata": {},
   "outputs": [],
   "source": []
  }
 ],
 "metadata": {
  "kernelspec": {
   "display_name": "Python 3 (ipykernel)",
   "language": "python",
   "name": "python3"
  },
  "language_info": {
   "codemirror_mode": {
    "name": "ipython",
    "version": 3
   },
   "file_extension": ".py",
   "mimetype": "text/x-python",
   "name": "python",
   "nbconvert_exporter": "python",
   "pygments_lexer": "ipython3",
   "version": "3.9.7"
  }
 },
 "nbformat": 4,
 "nbformat_minor": 5
}
