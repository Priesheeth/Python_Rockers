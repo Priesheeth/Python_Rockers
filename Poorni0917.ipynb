{
 "cells": [
  {
   "cell_type": "code",
   "execution_count": 50,
   "id": "276f856e",
   "metadata": {},
   "outputs": [],
   "source": [
    "import numpy as np\n",
    "import matplotlib.pyplot as plt\n",
    "import pandas as pd\n",
    "import seaborn as sns"
   ]
  },
  {
   "cell_type": "code",
   "execution_count": 33,
   "id": "09a23fbb",
   "metadata": {},
   "outputs": [
    {
     "data": {
      "image/png": "[encoded data removed]",
      "text/plain": [
       "<Figure size 720x360 with 1 Axes>"
      ]
     },
     "metadata": {
      "needs_background": "light"
     },
     "output_type": "display_data"
    }
   ],
   "source": [
    "\n",
    " #27.Plot a graph to count the patients based on discharge disposition.\n",
    "\n",
    "dischargesdf=pd.read_excel(\"HospitalDataBase .xlsx\", sheet_name=\"Discharges\")\n",
    "fig = plt.figure(figsize = (10, 5))\n",
    "\n",
    "x=dischargesdf['DischargeDisposition']\n",
    "y=dischargesdf['DischargeDisposition'].value_counts().plot(kind='bar',color=['red','blue','yellow','green'],edgecolor='black')\n",
    "\n",
    "\n",
    "\n",
    "# To Put label for axis\n",
    "plt.xlabel(\"DischargeDisposition\")\n",
    "plt.ylabel(\"PatientsCount\")\n",
    "# To show chart\n",
    "plt.show()\n",
    "    \n",
    "    \n",
    "  \n"
   ]
  },
  {
   "cell_type": "code",
   "execution_count": 306,
   "id": "70a0754f",
   "metadata": {},
   "outputs": [
    {
     "name": "stdout",
     "output_type": "stream",
     "text": [
      "[[ 4  5]\n",
      " [24 25]\n",
      " [29 30]]\n"
     ]
    }
   ],
   "source": [
    "#66.np.arange(1,31).reshape(6,5), find array slicing to get the elements 4,5,24,25,29,30.\n",
    "a=np.arange(1,31).reshape((6, 5))\n",
    "print(a)\n",
    "print(a[np.array([0, 4, 5]), -2:])\n",
    "  \n",
    " \n"
   ]
  },
  {
   "cell_type": "code",
   "execution_count": 213,
   "id": "84628ae2",
   "metadata": {},
   "outputs": [
    {
     "data": {
      "text/plain": [
       "(array([  6.,  22.,  61., 133., 163., 172., 113.,  41.,   8.,   1.]),\n",
       " array([-2.8228089 , -2.16539876, -1.50798863, -0.8505785 , -0.19316837,\n",
       "         0.46424176,  1.12165189,  1.77906202,  2.43647215,  3.09388228,\n",
       "         3.75129241]),\n",
       " <BarContainer object of 10 artists>)"
      ]
     },
     "execution_count": 213,
     "metadata": {},
     "output_type": "execute_result"
    },
    {
     "data": {
      "image/png": "[encoded data removed]",
      "text/plain": [
       "<Figure size 720x360 with 1 Axes>"
      ]
     },
     "metadata": {
      "needs_background": "light"
     },
     "output_type": "display_data"
    }
   ],
   "source": [
    "#70.Plot a graph to show the distribution of expected mortality.\n",
    "\n",
    "readmissiondf=pd.read_excel(\"HospitalDataBase .xlsx\", sheet_name=\"ReAdmissionRegistry\")\n",
    "\n",
    "# fix size of the chart\n",
    "\n",
    "fig = plt.figure(figsize = (10, 5))\n",
    "x=np.random.normal(readmissiondf.ExpectedMortality)\n",
    "\n",
    "#code for distribution of expected mortality \n",
    "plt.hist(x,color='pink',edgecolor='black')"
   ]
  }
 ],
 "metadata": {
  "kernelspec": {
   "display_name": "Python 3 (ipykernel)",
   "language": "python",
   "name": "python3"
  },
  "language_info": {
   "codemirror_mode": {
    "name": "ipython",
    "version": 3
   },
   "file_extension": ".py",
   "mimetype": "text/x-python",
   "name": "python",
   "nbconvert_exporter": "python",
   "pygments_lexer": "ipython3",
   "version": "3.9.12"
  }
 },
 "nbformat": 4,
 "nbformat_minor": 5
}
