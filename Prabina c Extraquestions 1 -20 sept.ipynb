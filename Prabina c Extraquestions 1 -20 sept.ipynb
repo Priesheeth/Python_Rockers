{
 "cells": [
  {
   "cell_type": "code",
   "execution_count": 1,
   "id": "df67efb7",
   "metadata": {},
   "outputs": [],
   "source": [
    "import pandas as pd\n",
    "import matplotlib.pyplot as plt\n",
    "import seaborn as sns\n",
    "import numpy as np"
   ]
  },
  {
   "cell_type": "code",
   "execution_count": 3,
   "id": "730619df",
   "metadata": {},
   "outputs": [
    {
     "name": "stdout",
     "output_type": "stream",
     "text": [
      "[[ 1  2  3  4  5]\n",
      " [ 6  7  8  9 10]\n",
      " [11 12 13 14 15]\n",
      " [16 17 18 19 20]\n",
      " [21 22 23 24 25]\n",
      " [26 27 28 29 30]]\n",
      "[[ 2  4]\n",
      " [12 14]]\n"
     ]
    }
   ],
   "source": [
    "# ExtraQ 1: From question 34,Extract individual 1D slices from main array and then combine them to form a 2D array \n",
    "#using numpy.ix_() function\n",
    "a= np.arange(1,31).reshape((6, 5))\n",
    "print(a)\n",
    "y= c[np.ix_([0,2],[1,3])]\n",
    "print(y)"
   ]
  },
  {
   "cell_type": "code",
   "execution_count": 4,
   "id": "63c90a80",
   "metadata": {},
   "outputs": [
    {
     "name": "stdout",
     "output_type": "stream",
     "text": [
      "[[ 1  2  3  4  5]\n",
      " [ 6  7  8  9 10]\n",
      " [11 12 13 14 15]\n",
      " [16 17 18 19 20]\n",
      " [21 22 23 24 25]\n",
      " [26 27 28 29 30]]\n",
      "[ 3  8 13 18 23 28]\n"
     ]
    }
   ],
   "source": [
    "#ExtraQ 2:From question 34,Find the array slicing to get the elements with values 3,8,13,18,23,28\n",
    "#using Ellipsis\n",
    "a = np.arange(1,31).reshape((6, 5))\n",
    "print(a)\n",
    "print(a[Ellipsis,2])"
   ]
  },
  {
   "cell_type": "code",
   "execution_count": 11,
   "id": "d9e448f7",
   "metadata": {},
   "outputs": [
    {
     "name": "stdout",
     "output_type": "stream",
     "text": [
      "[[ 1  2  3  4  5]\n",
      " [ 6  7  8  9 10]\n",
      " [11 12 13 14 15]\n",
      " [16 17 18 19 20]\n",
      " [21 22 23 24 25]\n",
      " [26 27 28 29 30]]\n",
      "[[-1 -1 -1 -1 -1]\n",
      " [99 99 99 99 99]\n",
      " [99 99 99 99 99]\n",
      " [99 99 99 99 99]\n",
      " [99 99 99 99 99]\n",
      " [99 99 99 99 99]]\n"
     ]
    }
   ],
   "source": [
    "#ExtraQ 4:From question 34,with condition element value less than 6 ,print as -1 else as 99\n",
    "#np where()\n",
    "a = np.arange(1,31).reshape((6, 5))\n",
    "print(a)\n",
    "print(np.where(a < 6, -1, 99))"
   ]
  },
  {
   "cell_type": "code",
   "execution_count": 14,
   "id": "2dc84008",
   "metadata": {},
   "outputs": [
    {
     "name": "stdout",
     "output_type": "stream",
     "text": [
      "\n"
     ]
    }
   ],
   "source": [
    "#ExtraQ 3:From question 34,print the truncated array with 2 elements on the edge\n",
    "#using edgeitems\n",
    "a= np.arange(1,31).reshape((6, 5))\n",
    "np.set_printoptions(edgeitems = 2)\n",
    "print()"
   ]
  },
  {
   "cell_type": "code",
   "execution_count": null,
   "id": "c8da9d99",
   "metadata": {},
   "outputs": [],
   "source": []
  }
 ],
 "metadata": {
  "kernelspec": {
   "display_name": "Python 3 (ipykernel)",
   "language": "python",
   "name": "python3"
  },
  "language_info": {
   "codemirror_mode": {
    "name": "ipython",
    "version": 3
   },
   "file_extension": ".py",
   "mimetype": "text/x-python",
   "name": "python",
   "nbconvert_exporter": "python",
   "pygments_lexer": "ipython3",
   "version": "3.9.12"
  }
 },
 "nbformat": 4,
 "nbformat_minor": 5
}
