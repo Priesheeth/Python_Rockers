{
 "cells": [
  {
   "cell_type": "code",
   "execution_count": 1,
   "id": "575b5d38",
   "metadata": {},
   "outputs": [],
   "source": [
    "import pandas as pd\n",
    "import matplotlib.pyplot as plt\n",
    "import seaborn as sns\n",
    "import numpy as np"
   ]
  },
  {
   "cell_type": "code",
   "execution_count": 27,
   "id": "9a6b6b9d",
   "metadata": {},
   "outputs": [
    {
     "data": {
      "text/html": [
       "<div>\n",
       "<style scoped>\n",
       "    .dataframe tbody tr th:only-of-type {\n",
       "        vertical-align: middle;\n",
       "    }\n",
       "\n",
       "    .dataframe tbody tr th {\n",
       "        vertical-align: top;\n",
       "    }\n",
       "\n",
       "    .dataframe thead th {\n",
       "        text-align: right;\n",
       "    }\n",
       "</style>\n",
       "<table border=\"1\" class=\"dataframe\">\n",
       "  <thead>\n",
       "    <tr style=\"text-align: right;\">\n",
       "      <th></th>\n",
       "      <th>VisitID</th>\n",
       "      <th>PatientMRN</th>\n",
       "      <th>ProviderID</th>\n",
       "      <th>DateofVisit</th>\n",
       "      <th>DateScheduled</th>\n",
       "      <th>VisitDepartmentID</th>\n",
       "      <th>VisitType</th>\n",
       "      <th>BloodPressureSystolic</th>\n",
       "      <th>BloodPressureDiastolic</th>\n",
       "      <th>Pulse</th>\n",
       "      <th>VisitStatus</th>\n",
       "    </tr>\n",
       "  </thead>\n",
       "  <tbody>\n",
       "    <tr>\n",
       "      <th>757</th>\n",
       "      <td>163</td>\n",
       "      <td>801</td>\n",
       "      <td>11</td>\n",
       "      <td>2019-02-08</td>\n",
       "      <td>2019-02-07 23:41:12.181</td>\n",
       "      <td>7</td>\n",
       "      <td>Follow Up</td>\n",
       "      <td>120.0</td>\n",
       "      <td>51.695653</td>\n",
       "      <td>53.310495</td>\n",
       "      <td>Completed</td>\n",
       "    </tr>\n",
       "  </tbody>\n",
       "</table>\n",
       "</div>"
      ],
      "text/plain": [
       "     VisitID  PatientMRN  ProviderID DateofVisit           DateScheduled  \\\n",
       "757      163         801          11  2019-02-08 2019-02-07 23:41:12.181   \n",
       "\n",
       "     VisitDepartmentID  VisitType  BloodPressureSystolic  \\\n",
       "757                  7  Follow Up                  120.0   \n",
       "\n",
       "     BloodPressureDiastolic      Pulse VisitStatus  \n",
       "757               51.695653  53.310495   Completed  "
      ]
     },
     "execution_count": 27,
     "metadata": {},
     "output_type": "execute_result"
    }
   ],
   "source": [
    "#52 Retrieve the row with minimum DBP using sorting technique.\n",
    "df= pd.read_excel(\"HospitalDatabase .xlsx\",sheet_name=\"AmbulatoryVisits\")\n",
    "\n",
    "dbp=df.sort_values(\"BloodPressureDiastolic\")\n",
    "dbp.head(1)\n"
   ]
  },
  {
   "cell_type": "code",
   "execution_count": 55,
   "id": "3af6a804",
   "metadata": {},
   "outputs": [
    {
     "name": "stdout",
     "output_type": "stream",
     "text": [
      "Time spent for each visit:  0      0 days 11:20:22.924000\n",
      "1      0 days 23:14:20.215000\n",
      "2      0 days 01:50:56.151000\n",
      "3      0 days 01:20:09.793000\n",
      "4      0 days 02:38:20.043000\n",
      "                ...          \n",
      "1194   0 days 15:53:09.453000\n",
      "1195   0 days 22:27:04.030000\n",
      "1196   0 days 04:30:03.545000\n",
      "1197   0 days 06:10:35.054000\n",
      "1198   0 days 10:49:26.581000\n",
      "Length: 1199, dtype: timedelta64[ns]\n"
     ]
    }
   ],
   "source": [
    "##75 Calculate the time spent in ED Department for each visit.df = pd.read_excel(\"HospitalDatabase .xlsx\",sheet_name=\"EDVisits\")\n",
    "df = pd.read_excel(\"HospitalDatabase .xlsx\",sheet_name=\"EDVisits\")\n",
    "a = df[\"EDDischargeTime\"]\n",
    "b = df[\"VisitDate\"]\n",
    "# returns a timedelta object\n",
    "c = a-b\n",
    "\n",
    "#Visit = df.groupby(\"EDVisitID\")\n",
    "print('Time spent for each visit: ', c)\n",
    "#c.head()"
   ]
  },
  {
   "cell_type": "code",
   "execution_count": 67,
   "id": "90db23c9",
   "metadata": {},
   "outputs": [
    {
     "data": {
      "text/plain": [
       "DischargeDisposition    42.726264\n",
       "dtype: float64"
      ]
     },
     "metadata": {},
     "output_type": "display_data"
    }
   ],
   "source": [
    "##54.Mortality O.E\n",
    "#Create a calculated field” Observed Mortality” - COUNT(IF [Discharge Disposition] ='Expired’ THEN 1 END)\n",
    "#Create another calculated field “O: E Mortality”- ([Observed Mortality])/SUM([Expected Mortality]) \n",
    "readmregistry = pd.read_excel(\"HospitalDatabase .xlsx\",sheet_name=\"ReAdmissionRegistry\")\n",
    "df_readm = readmregistry[[\"DischargeDisposition\"]]\n",
    "df_mort = (df_readm == 'Expired').sum()\n",
    "df_exp = readmregistry[\"ExpectedMortality\"].sum().round(2)\n",
    "df_exp\n",
    "MortalityOE = ((df_mort/df_exp)*100)\n",
    "display(MortalityOE)"
   ]
  },
  {
   "cell_type": "code",
   "execution_count": 71,
   "id": "0bb07df0",
   "metadata": {},
   "outputs": [
    {
     "name": "stdout",
     "output_type": "stream",
     "text": [
      "[[ 1  2  3  4  5]\n",
      " [ 6  7  8  9 10]\n",
      " [11 12 13 14 15]\n",
      " [16 17 18 19 20]\n",
      " [21 22 23 24 25]\n",
      " [26 27 28 29 30]]\n",
      "[[ 2  4]\n",
      " [12 14]]\n"
     ]
    }
   ],
   "source": [
    "# ExtraQ 1: From question 34 Array: Extract individual 1D slices from main array and then combine them to form a 2D array \n",
    "#using numpy.ix_()\n",
    "a = np.arange(1,31).reshape((6, 5))\n",
    "print(a)\n",
    "b = a[np.ix_([0,2],[1,3])]\n",
    "print(y)"
   ]
  },
  {
   "cell_type": "code",
   "execution_count": 74,
   "id": "1a8ab7a2",
   "metadata": {},
   "outputs": [
    {
     "name": "stdout",
     "output_type": "stream",
     "text": [
      "[[ 1  2  3  4  5]\n",
      " [ 6  7  8  9 10]\n",
      " [11 12 13 14 15]\n",
      " [16 17 18 19 20]\n",
      " [21 22 23 24 25]\n",
      " [26 27 28 29 30]]\n",
      "[[ 2  3  4]\n",
      " [ 7  8  9]\n",
      " [12 13 14]\n",
      " [17 18 19]\n",
      " [22 23 24]\n",
      " [27 28 29]]\n"
     ]
    }
   ],
   "source": [
    "#ExtraQ 2: From question 34 Array:Removing the start, end elements of the given multidimensional array\n",
    "a = np.arange(1,31).reshape((6, 5))\n",
    "print(a)\n",
    "print(a[:, 1:-1])"
   ]
  },
  {
   "cell_type": "code",
   "execution_count": null,
   "id": "2a6d5376",
   "metadata": {},
   "outputs": [],
   "source": []
  }
 ],
 "metadata": {
  "kernelspec": {
   "display_name": "Python 3 (ipykernel)",
   "language": "python",
   "name": "python3"
  },
  "language_info": {
   "codemirror_mode": {
    "name": "ipython",
    "version": 3
   },
   "file_extension": ".py",
   "mimetype": "text/x-python",
   "name": "python",
   "nbconvert_exporter": "python",
   "pygments_lexer": "ipython3",
   "version": "3.9.12"
  }
 },
 "nbformat": 4,
 "nbformat_minor": 5
}
